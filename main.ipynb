{
 "cells": [
  {
   "cell_type": "markdown",
   "id": "c4fd0332",
   "metadata": {},
   "source": [
    "Required package: underthesea\n",
    "https://github.com/undertheseanlp/underthesea/tree/main?tab=readme-ov-file"
   ]
  },
  {
   "cell_type": "code",
   "execution_count": 3,
   "id": "65cfd7f5",
   "metadata": {},
   "outputs": [],
   "source": [
    "from underthesea import word_tokenize, pos_tag\n",
    "import unicodedata"
   ]
  },
  {
   "cell_type": "code",
   "execution_count": null,
   "id": "53e9fa9a",
   "metadata": {},
   "outputs": [
    {
     "name": "stdout",
     "output_type": "stream",
     "text": [
      "['Tôi', 'là', 'người', 'Việt Nam']\n"
     ]
    }
   ],
   "source": [
    "sentence = \"Tôi là người Việt Nam\"\n",
    "\n",
    "tokens = word_tokenize(sentence)\n",
    "print(\"Tokens: \", tokens)\n",
    "\n",
    "pos_tags = \n"
   ]
  }
 ],
 "metadata": {
  "kernelspec": {
   "display_name": "vi-nlp",
   "language": "python",
   "name": "python3"
  },
  "language_info": {
   "codemirror_mode": {
    "name": "ipython",
    "version": 3
   },
   "file_extension": ".py",
   "mimetype": "text/x-python",
   "name": "python",
   "nbconvert_exporter": "python",
   "pygments_lexer": "ipython3",
   "version": "3.10.18"
  }
 },
 "nbformat": 4,
 "nbformat_minor": 5
}
